{
 "cells": [
  {
   "cell_type": "code",
   "execution_count": 16,
   "metadata": {},
   "outputs": [],
   "source": [
    "import pandas as pd\n",
    "from sklearn.model_selection import train_test_split\n",
    "from sklearn.linear_model import LassoCV\n",
    "from sklearn.linear_model import Lasso\n",
    "import numpy as np\n",
    "from sklearn.linear_model import RidgeCV, Ridge\n",
    "from sklearn.metrics import r2_score"
   ]
  },
  {
   "cell_type": "code",
   "execution_count": 8,
   "metadata": {},
   "outputs": [],
   "source": [
    "data = pd.read_csv('wine_agg.csv')\n"
   ]
  },
  {
   "cell_type": "code",
   "execution_count": 9,
   "metadata": {},
   "outputs": [],
   "source": [
    "y = data['LogAuctionIndex']\n",
    "x = data.drop(columns = 'LogAuctionIndex')\n",
    "x_train, x_test, y_train, y_test = train_test_split(x, y, test_size=0.2, random_state=42)"
   ]
  },
  {
   "cell_type": "code",
   "execution_count": 10,
   "metadata": {},
   "outputs": [
    {
     "name": "stdout",
     "output_type": "stream",
     "text": [
      "Best alpha: 0.03273531874228395\n"
     ]
    }
   ],
   "source": [
    "#2A\n",
    "lasso_cv = LassoCV(cv = 5, random_state=42).fit(x_train, y_train)\n",
    "best_alpha = lasso_cv.alpha_\n",
    "print(f\"Best alpha: {best_alpha}\")"
   ]
  },
  {
   "cell_type": "code",
   "execution_count": 13,
   "metadata": {},
   "outputs": [],
   "source": [
    "lasso = Lasso(alpha=best_alpha)\n",
    "lasso.fit(x_train, y_train)\n",
    "y_pred = lasso.predict(x_test)"
   ]
  },
  {
   "cell_type": "code",
   "execution_count": 14,
   "metadata": {},
   "outputs": [
    {
     "name": "stdout",
     "output_type": "stream",
     "text": [
      "OSR2: 0.3862533319966974\n"
     ]
    }
   ],
   "source": [
    "#OSR2\n",
    "numerator = np.sum((y_test - y_pred) ** 2)\n",
    "denominator = np.sum((y_test - y_train.mean())**2)\n",
    "osr2 = 1 - numerator/denominator\n",
    "print(f\"OSR2: {osr2}\")"
   ]
  },
  {
   "cell_type": "code",
   "execution_count": 15,
   "metadata": {},
   "outputs": [
    {
     "name": "stdout",
     "output_type": "stream",
     "text": [
      "Number of zero coefficients: 2\n",
      "['Year', 'USAlcConsump']\n"
     ]
    }
   ],
   "source": [
    "coeffs = pd.Series(lasso.coef_, index=x.columns)\n",
    "zero_coeffs = coeffs[coeffs == 0]\n",
    "print(f\"Number of zero coefficients: {len(zero_coeffs)}\")\n",
    "print(zero_coeffs.index.tolist())"
   ]
  },
  {
   "cell_type": "code",
   "execution_count": 17,
   "metadata": {},
   "outputs": [
    {
     "name": "stdout",
     "output_type": "stream",
     "text": [
      "Best beta: 1.592282793341094\n"
     ]
    },
    {
     "name": "stderr",
     "output_type": "stream",
     "text": [
      "/opt/anaconda3/lib/python3.12/site-packages/sklearn/linear_model/_ridge.py:2385: FutureWarning: 'store_cv_values' is deprecated in version 1.5 and will be removed in 1.7. Use 'store_cv_results' instead.\n",
      "  warnings.warn(\n"
     ]
    }
   ],
   "source": [
    "#2B\n",
    "alphas = np.logspace(-4, 4, 100)\n",
    "ridge_cv = RidgeCV(alphas=alphas, store_cv_values=True).fit(x_train, y_train)\n",
    "best_beta = ridge_cv.alpha_\n",
    "print(f\"Best beta: {best_beta}\")"
   ]
  },
  {
   "cell_type": "code",
   "execution_count": 18,
   "metadata": {},
   "outputs": [],
   "source": [
    "ridge = Ridge(alpha=best_beta)\n",
    "ridge.fit(x_train, y_train)\n",
    "y_pred = ridge.predict(x_test)\n"
   ]
  },
  {
   "cell_type": "code",
   "execution_count": 19,
   "metadata": {},
   "outputs": [
    {
     "name": "stdout",
     "output_type": "stream",
     "text": [
      "OSR2: 0.32856394760953944\n"
     ]
    }
   ],
   "source": [
    "numerator = np.sum((y_test - y_pred) ** 2)\n",
    "denominator = np.sum((y_test - y_train.mean())**2)\n",
    "osr2 = 1 - numerator/denominator\n",
    "print(f\"OSR2: {osr2}\")"
   ]
  },
  {
   "cell_type": "code",
   "execution_count": 20,
   "metadata": {},
   "outputs": [
    {
     "name": "stdout",
     "output_type": "stream",
     "text": [
      "Number of zero coefficients: 0\n",
      "[]\n"
     ]
    }
   ],
   "source": [
    "coeffs = pd.Series(ridge.coef_, index=x.columns)\n",
    "zero_coeffs = coeffs[coeffs == 0]\n",
    "print(f\"Number of zero coefficients: {len(zero_coeffs)}\")\n",
    "print(zero_coeffs.index.tolist())"
   ]
  },
  {
   "cell_type": "code",
   "execution_count": null,
   "metadata": {},
   "outputs": [],
   "source": []
  }
 ],
 "metadata": {
  "kernelspec": {
   "display_name": "base",
   "language": "python",
   "name": "python3"
  },
  "language_info": {
   "codemirror_mode": {
    "name": "ipython",
    "version": 3
   },
   "file_extension": ".py",
   "mimetype": "text/x-python",
   "name": "python",
   "nbconvert_exporter": "python",
   "pygments_lexer": "ipython3",
   "version": "3.12.4 | packaged by Anaconda, Inc. | (main, Jun 18 2024, 10:07:17) [Clang 14.0.6 ]"
  },
  "orig_nbformat": 4,
  "vscode": {
   "interpreter": {
    "hash": "40d3a090f54c6569ab1632332b64b2c03c39dcf918b08424e98f38b5ae0af88f"
   }
  }
 },
 "nbformat": 4,
 "nbformat_minor": 2
}
